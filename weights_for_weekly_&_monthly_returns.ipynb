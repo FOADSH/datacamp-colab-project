{
  "cells": [
    {
      "cell_type": "code",
      "execution_count": null,
      "metadata": {
        "colab": {
          "base_uri": "https://localhost:8080/"
        },
        "id": "HjM1dKG-n3mI",
        "outputId": "ef7f8939-1290-4ec9-a593-a2eca21ba228"
      },
      "outputs": [
        {
          "output_type": "stream",
          "name": "stdout",
          "text": [
            "[*********************100%***********************]  1 of 1 completed\n",
            "[*********************100%***********************]  1 of 1 completed\n",
            "weekly return of BTC/USD and ETH/USD protfolio is 5.46%\n",
            "weekly return of BTC/USD and ETH/USD protfolio is 25.72%\n"
          ]
        }
      ],
      "source": [
        "import datetime as dt\n",
        "import yfinance as yf\n",
        "import pandas as pd\n",
        "\n",
        "# define start time and end time\n",
        "\n",
        "\n",
        "start_date = dt.datetime(2021, 1, 1)\n",
        "end_date = dt.datetime(2021, 12, 31)\n",
        "\n",
        "#download the data for Bitcon\n",
        "btc= yf.download(\"BTC-USD\",start=start_date,end=end_date)\n",
        "\n",
        "\n",
        "#download the data for Ethereum\n",
        "eth= yf.download(\"ETH-USD\",start=start_date,end=end_date)\n",
        "\n",
        "\n",
        "#  Calculate weekly returns\n",
        "\n",
        "btc['weekly_returns'] = btc['Close'].resample('W').ffill().pct_change()\n",
        "eth['weekly_returns'] = eth['Close'].resample('W').ffill().pct_change()\n",
        "\n",
        "\n",
        "#  Calculate monthly returns\n",
        "btc['monthly_returns']=btc['Close'].resample('M').ffill().pct_change()\n",
        "eth['monthly_returns']=eth['Close'].resample('M').ffill().pct_change()\n",
        "\n",
        "#  Calculate total weekly & monthly returns\n",
        "total_return_weekly = btc['weekly_returns']+eth['weekly_returns']\n",
        "total_return_monthly = btc['monthly_returns']+eth['monthly_returns']\n",
        "\n",
        "#  Calculate total weights for weekly & monthly returns\n",
        "\n",
        "btc_weight_weekly = btc['weekly_returns']/total_return_weekly\n",
        "eth_weight_weekly = eth['weekly_returns']/total_return_weekly\n",
        "\n",
        "#  Calculate portfolio returns\n",
        "portfolio_return_weekly = btc_weight_weekly*btc['weekly_returns']+eth_weight_weekly*eth['weekly_returns']\n",
        "portfolio_weekly_return = portfolio_return_weekly.mean()*100\n",
        "\n",
        "portfolio_return_monthly= btc_weight_monthly*btc['monthly_returns']+eth_weight_monthly*eth['monthly_returns']\n",
        "portfolio_monthly_return = portfolio_return_monthly.mean()*100\n",
        "\n",
        "\n",
        "\n",
        "#Print the results\n",
        "print(\"weekly return of BTC/USD and ETH/USD protfolio is {:.2f}%\".format(portfolio_weekly_return))\n",
        "print(\"weekly return of BTC/USD and ETH/USD protfolio is {:.2f}%\".format(portfolio_monthly_return))"
      ]
    },
    {
      "cell_type": "code",
      "source": [
        "import yfinance as yf\n",
        "import datetime as dt\n",
        "import pandas as pd\n",
        "\n",
        "# Define the start and end dates\n",
        "start_date = dt.datetime(2021, 1, 1)\n",
        "end_date = dt.datetime(2021, 12, 31)\n",
        "\n",
        "# Download the data for Bitcoin\n",
        "btc = yf.download('BTC-USD', start=start_date, end=end_date)\n",
        "\n",
        "# Download the data for Ethereum\n",
        "eth = yf.download('ETH-USD', start=start_date, end=end_date)\n",
        "\n",
        "# Calculate weekly returns\n",
        "btc['weekly_returns'] = btc['Close'].resample('W').ffill().pct_change()\n",
        "eth['weekly_returns'] = eth['Close'].resample('W').ffill().pct_change()\n",
        "\n",
        "# Calculate monthly returns\n",
        "btc['monthly_returns'] = btc['Close'].resample('M').ffill().pct_change()\n",
        "eth['monthly_returns'] = eth['Close'].resample('M').ffill().pct_change()\n",
        "\n",
        "# Calculate total weekly and monthly returns\n",
        "total_return_weekly = btc['weekly_returns'] + eth['weekly_returns']\n",
        "total_return_monthly = btc['monthly_returns'] + eth['monthly_returns']\n",
        "\n",
        "# Calculate weights for weekly and monthly returns\n",
        "btc_weight_weekly = btc['weekly_returns'] / total_return_weekly\n",
        "eth_weight_weekly = eth['weekly_returns'] / total_return_weekly\n",
        "\n",
        "btc_weight_monthly = btc['monthly_returns'] / total_return_monthly\n",
        "eth_weight_monthly = eth['monthly_returns'] / total_return_monthly\n",
        "\n",
        "# Calculate portfolio returns\n",
        "portfolio_return_weekly = btc_weight_weekly * btc['weekly_returns'] + eth_weight_weekly * eth['weekly_returns']\n",
        "portfolio_weekly_return = portfolio_return_weekly.mean() * 100\n",
        "\n",
        "portfolio_return_monthly = btc_weight_monthly * btc['monthly_returns'] + eth_weight_monthly * eth['monthly_returns']\n",
        "portfolio_monthly_return = portfolio_return_monthly.mean() * 100\n",
        "\n",
        "# Print the results\n",
        "print(\"Weekly return of BTC/USD and ETH/USD portfolio is {:.2f}%\".format(portfolio_weekly_return))\n",
        "print(\"Monthly return of BTC/USD and ETH/USD portfolio is {:.2f}%\".format(portfolio_monthly_return))"
      ],
      "metadata": {
        "colab": {
          "base_uri": "https://localhost:8080/"
        },
        "id": "_byLirAHiizg",
        "outputId": "7eba8d57-3298-41ab-e293-9cc17a4f978d"
      },
      "execution_count": null,
      "outputs": [
        {
          "output_type": "stream",
          "name": "stdout",
          "text": [
            "[*********************100%***********************]  1 of 1 completed\n",
            "[*********************100%***********************]  1 of 1 completed\n",
            "Weekly return of BTC/USD and ETH/USD portfolio is 5.46%\n",
            "Monthly return of BTC/USD and ETH/USD portfolio is 25.72%\n"
          ]
        }
      ]
    }
  ],
  "metadata": {
    "colab": {
      "provenance": []
    },
    "kernelspec": {
      "display_name": "Python 3",
      "name": "python3"
    },
    "language_info": {
      "name": "python"
    }
  },
  "nbformat": 4,
  "nbformat_minor": 0
}